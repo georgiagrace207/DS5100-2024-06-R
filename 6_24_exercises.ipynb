{
 "cells": [
  {
   "cell_type": "code",
   "execution_count": 6,
   "id": "b01f80be-6647-4299-acdd-33d7f3919ebf",
   "metadata": {
    "tags": []
   },
   "outputs": [],
   "source": [
    "# 4.1\n",
    "\n",
    "string = 'one'\n",
    "integer = 2\n",
    "\n",
    "def my_length(string, integer):\n",
    "  '''\n",
    "  :param string: string the user inputs\n",
    "  :param integer: integer the user inputs\n",
    "  :return: True if string length is equal to the integer, else False\n",
    "  '''\n",
    "  check = len(string) == integer\n",
    "  return check"
   ]
  },
  {
   "cell_type": "code",
   "execution_count": 2,
   "id": "00691922-3727-426b-83e0-1bf9947aa91d",
   "metadata": {
    "tags": []
   },
   "outputs": [],
   "source": [
    "# 4.2\n",
    "\n",
    "def my_argument(*args):\n",
    "  for arg in args:\n",
    "    print (arg**2)\n",
    "  return None"
   ]
  },
  {
   "cell_type": "code",
   "execution_count": 3,
   "id": "021693cd-339d-45c9-bb9a-2a6e6859dda7",
   "metadata": {
    "tags": []
   },
   "outputs": [],
   "source": [
    "# 4.3\n",
    "\n",
    "def word_shortener(word: 'str'):\n",
    "  middle_count = len(word) - 2\n",
    "  if middle_count < 1:\n",
    "    print(\"Need more numbers\")\n",
    "  if middle_count >= 1:\n",
    "    print(word[0], middle_count, word[-1])"
   ]
  },
  {
   "cell_type": "code",
   "execution_count": 4,
   "id": "126187c6-1f6f-4c53-874a-6d1d067a0cca",
   "metadata": {
    "tags": []
   },
   "outputs": [],
   "source": [
    "# 4.4\n",
    "\n",
    "\n",
    "def my_function(x):\n",
    "  difference = x - 5\n",
    "  if difference >= 0:\n",
    "    return 1\n",
    "  if difference < 0:\n",
    "    return 0"
   ]
  },
  {
   "cell_type": "code",
   "execution_count": null,
   "id": "25acc4b3-9d60-4301-b6ba-2b9fd5905b97",
   "metadata": {},
   "outputs": [],
   "source": []
  }
 ],
 "metadata": {
  "kernelspec": {
   "display_name": "Python 3 (ipykernel)",
   "language": "python",
   "name": "python3"
  },
  "language_info": {
   "codemirror_mode": {
    "name": "ipython",
    "version": 3
   },
   "file_extension": ".py",
   "mimetype": "text/x-python",
   "name": "python",
   "nbconvert_exporter": "python",
   "pygments_lexer": "ipython3",
   "version": "3.11.4"
  }
 },
 "nbformat": 4,
 "nbformat_minor": 5
}
